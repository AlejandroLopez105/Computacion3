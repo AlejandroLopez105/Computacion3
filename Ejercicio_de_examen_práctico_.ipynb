{
  "nbformat": 4,
  "nbformat_minor": 0,
  "metadata": {
    "colab": {
      "name": "Ejercicio de examen práctico .ipynb",
      "provenance": [],
      "collapsed_sections": [],
      "authorship_tag": "ABX9TyMeYiG+WdUyu5rn5U84tlH5",
      "include_colab_link": true
    },
    "kernelspec": {
      "name": "python3",
      "display_name": "Python 3"
    }
  },
  "cells": [
    {
      "cell_type": "markdown",
      "metadata": {
        "id": "view-in-github",
        "colab_type": "text"
      },
      "source": [
        "<a href=\"https://colab.research.google.com/github/AlejandroLopez105/Computacion3/blob/master/Ejercicio_de_examen_pr%C3%A1ctico_.ipynb\" target=\"_parent\"><img src=\"https://colab.research.google.com/assets/colab-badge.svg\" alt=\"Open In Colab\"/></a>"
      ]
    },
    {
      "cell_type": "markdown",
      "metadata": {
        "id": "L1yTpKaNpvlI"
      },
      "source": [
        "#Computación III -Unidad I\n",
        "+ Autor : Miguel Alejandro López Olvera\n",
        "+ Contacto: alexander_105@live.com \n",
        "+ 28-10-2020\n",
        "\n",
        "#Ejercicio de examen práctico "
      ]
    },
    {
      "cell_type": "code",
      "metadata": {
        "id": "pwWhAvLJp4d2"
      },
      "source": [
        "class Optimization:\n",
        "  def __init__(self,func, tol,maxIter):\n",
        "    self.tol = tol\n",
        "    self.maxIter = maxIter\n",
        "    self.func = func\n",
        "\n",
        "  def Exhaustive_search(self, inicio, fin):\n",
        "    x_a = np.arange(inicio,fin+1)\n",
        "    y_a = np.zeros(len(x_a))\n",
        "    y_a_muestreo = np.zeros(9)\n",
        "    max = -99999999\n",
        "    min = 999999999\n",
        "    index_min = 0\n",
        "    index_max = 0\n",
        "    for i in x_a:\n",
        "      y_a[i] = self.func.subs(x,x_a[i])\n",
        "      a=0.1\n",
        "      if(y_a[i]<min):\n",
        "        min = y_a[i]\n",
        "        index_min = x_a[i]\n",
        "      for j in range(9):\n",
        "        subs = x_a[i]+a\n",
        "        y_a_muestreo[j] = self.func.subs(x,subs)\n",
        "        if(y_a_muestreo[j] > max):\n",
        "          max = y_a_muestreo[j]\n",
        "          index_max = subs\n",
        "        if(y_a_muestreo[j] < min):\n",
        "          min = y_a_muestreo[j]\n",
        "          index_min = subs\n",
        "        a+=0.1\n",
        "    return min,max,index_min,index_max\n",
        "  def Newton_method(self, der1, der2):\n",
        "    #valor inicial\n",
        "    x_1 = float(1)\n",
        "    #inicializar error (delta)\n",
        "    error = 99999#valor inicial para el error, se actualizará en el ciclo\n",
        "    count = 0\n",
        "    start_time_Newton = time()\n",
        "    while self.tol<error and count <self.maxIter:\n",
        "      #Xk1 = xk - eval(f'(xf))/eval(f''(xk))\n",
        "      x_2 = x_1 - (der1.subs(x,x_1)/der2.subs(x,x_1))\n",
        "      #error = abs(actual-anterior)\n",
        "      error = abs(x_1-x_2)\n",
        "      #count += 1\n",
        "      count += 1\n",
        "      #xk =Xk1\n",
        "      x_1 = x_2\n",
        "    return x_1\n",
        "\n",
        "  def Golden_ratio_method(self, x_l, x_u):\n",
        "    prop = (float(sqrt(5))-1)/2\n",
        "    conteo=0\n",
        "    while(abs(x_u-x_l) > self.tol and conteo<self.maxIter):\n",
        "      d = prop*(x_u-x_l)\n",
        "      x_1 = x_l + d\n",
        "      x_2 = x_u - d\n",
        "      eval_x1 = self.func.subs(x,x_1)\n",
        "      eval_x2 = self.func.subs(x,x_2)\n",
        "\n",
        "      if(eval_x1 < eval_x2):\n",
        "        x_l = x_2\n",
        "        x_2 = x_1\n",
        "        x_1 = x_l + (prop*(x_u-x_l))\n",
        "      elif(eval_x2 < eval_x1):\n",
        "        x_u = x_1\n",
        "        x_1 = x_2\n",
        "        x_2 = x_u - (prop*(x_u-x_l))\n",
        "      conteo+=1\n",
        "    return x_1"
      ],
      "execution_count": null,
      "outputs": []
    },
    {
      "cell_type": "markdown",
      "metadata": {
        "id": "7V41T7N1qFbc"
      },
      "source": [
        "#Graficación de métodos y puntos\n"
      ]
    },
    {
      "cell_type": "code",
      "metadata": {
        "id": "FEnDAea8qGq2"
      },
      "source": [
        "class Graph:\n",
        "  def __init__(self,func):\n",
        "    self.func = func\n",
        "\n",
        "  def PlotFunction(self,inicio,fin):\n",
        "    x_a = np.linspace(0, 500, 10000)\n",
        "    y_a = np.zeros(len(x_a))\n",
        "\n",
        "    for i in range(len(x_a)):\n",
        "      y_a[i] = self.func.subs(x, x_a[i])\n",
        "    plt.title(\"Método de Newton\")\n",
        "    plt.xlabel(\"X [m]\")\n",
        "    plt.ylabel(\"Z [m]\")\n",
        "    # Generar gráfico usando x_a y y_a\n",
        "    plt.plot(x_a, y_a, label = self.func)\n",
        "    # Desplegar lyenda\n",
        "    plt.legend(loc = 'best')\n",
        "\n",
        "  def plotPoint(self,x,y,legend,color, mark):\n",
        "    plt.scatter(x, y, label = legend, c = color, marker = mark)\n",
        "    plt.legend(loc= \"best\")\n",
        "\n",
        "  def saveFigure(self, title, quality):\n",
        "    plt.savefig(title, dpi = quality, bbox_inches = 'tight')"
      ],
      "execution_count": null,
      "outputs": []
    },
    {
      "cell_type": "markdown",
      "metadata": {
        "id": "RQQk7heXqLnT"
      },
      "source": [
        "#Definición de método Main"
      ]
    },
    {
      "cell_type": "code",
      "metadata": {
        "id": "3_6lAEHLqPJy"
      },
      "source": [
        "from sympy import *\n",
        "import matplotlib.pyplot as plt\n",
        "from sympy.abc import x, y\n",
        "import numpy as np\n",
        "import matplotlib\n",
        "from time import time\n",
        "import matplotlib.pyplot as plt\n",
        "#habilitar impresión avanzada con latex\n",
        "init_printing(use_latex='mathjax')\n",
        "\n",
        "def main():\n",
        "  #func = x**4-3*x**3+2*x\n",
        "  #func=x**2 + 2*x\n",
        "  #func = 500*x-2*x**2 --> x será y\n",
        "  #######################################Función a optimizar##################################\n",
        "  func_original = x*y\n",
        "  despeje = 250-x/2\n",
        "  func = 250*x-((x**2)/2)# Función que sale de sustituir y= \n",
        "  tol = 0.000001\n",
        "  maxIter = 1000\n",
        "  inicio = 0\n",
        "  fin = 400\n",
        "\n",
        "  der1 = diff(func)\n",
        "  der2 = diff(der1)\n",
        "#######La tolerancia, función y el máximo de iteraciones se añaden al constructor##############\n",
        "  objOpt = Optimization(func, tol, maxIter)\n",
        "\n",
        "\n",
        "  start_Newton = time()\n",
        "  x_1_newton = objOpt.Newton_method(der1,der2)\n",
        "  time_Newton = time() - start_Newton\n",
        "################Encontrar el valor de y dado x##########################\n",
        "  y_1_newton = 250 - x_1_newton/2\n",
        "  print(\"Función a maximizar: Z=\"+ str(func_original))\n",
        "  print(\"Restricción: 500 = x+2*y\")\n",
        "  print(\"Despeje de y    y=\"+str(despeje))\n",
        "  print(\"Función a optimizar: Z=\" + str(func))\n",
        "  print(\"*********************Newton method ****************************\")\n",
        "  print(\"Tolerancia: \"+str(tol))\n",
        "  print(\"x: \" + str(x_1_newton)+\" metros\")\n",
        "  print(\"y: \" + str(y_1_newton)+\" metros\")\n",
        "  print(\"\\t Tiempo de ejecución: \" + str(time_Newton) + \"\\n\")\n",
        "\n",
        "\n",
        "  objGraph = Graph(func)\n",
        "  objGraph.PlotFunction(inicio,fin)\n",
        "\n",
        "  minOrMax_Newton = der2.subs(x,x_1_newton)\n",
        "\n",
        "  if(minOrMax_Newton > 0):\n",
        "    objGraph.plotPoint(x_1_newton, func.subs(x,x_1_newton), \"Minimum-Newton\", \"r\",\"v\")\n",
        "  elif(minOrMax_Newton < 0):\n",
        "    objGraph.plotPoint(x_1_newton, func.subs(x,x_1_newton), \"Maximum-Newton\", \"r\",\"v\")\n",
        "  \n",
        "  #objGraph.saveFigure(\"Optimization\",300)\n",
        "\n",
        "if __name__ == \"__main__\":\n",
        "  main()"
      ],
      "execution_count": null,
      "outputs": []
    }
  ]
}