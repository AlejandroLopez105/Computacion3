{
  "nbformat": 4,
  "nbformat_minor": 0,
  "metadata": {
    "colab": {
      "name": "Optimización",
      "provenance": [],
      "collapsed_sections": [],
      "toc_visible": true,
      "authorship_tag": "ABX9TyO8C+5v0M6n4kqmMDbeF3m/",
      "include_colab_link": true
    },
    "kernelspec": {
      "name": "python3",
      "display_name": "Python 3"
    }
  },
  "cells": [
    {
      "cell_type": "markdown",
      "metadata": {
        "id": "view-in-github",
        "colab_type": "text"
      },
      "source": [
        "<a href=\"https://colab.research.google.com/github/AlejandroLopez105/Computacion3/blob/master/Optimizaci%C3%B3n.ipynb\" target=\"_parent\"><img src=\"https://colab.research.google.com/assets/colab-badge.svg\" alt=\"Open In Colab\"/></a>"
      ]
    },
    {
      "cell_type": "code",
      "metadata": {
        "id": "QY49Q0N-S51g",
        "outputId": "ba08c11a-00e4-4c6c-de01-5ddf289ac61e",
        "colab": {
          "base_uri": "https://localhost:8080/",
          "height": 55
        }
      },
      "source": [
        "import numpy as np\n",
        "from sympy import *\n",
        "from sympy.abc import x, y\n",
        "import matplotlib\n",
        "from time import time\n",
        "import matplotlib.pyplot as plt\n",
        "\n",
        "\n",
        "init_printing(use_latex='mathjax')\n",
        "func = x**2+2*x\n",
        "print(func)\n",
        "display(func)\n",
        "\n",
        "#display('Substitutución x=0', func.subs(x,0))\n"
      ],
      "execution_count": null,
      "outputs": [
        {
          "output_type": "stream",
          "text": [
            "x**2 + 2*x\n"
          ],
          "name": "stdout"
        },
        {
          "output_type": "display_data",
          "data": {
            "text/latex": "$$x^{2} + 2 x$$",
            "text/plain": [
              " 2      \n",
              "x  + 2⋅x"
            ]
          },
          "metadata": {
            "tags": []
          }
        }
      ]
    },
    {
      "cell_type": "code",
      "metadata": {
        "id": "KzWYu0u8VHfW",
        "outputId": "29dca69f-7204-49c4-ea82-34aae74bc3f3",
        "colab": {
          "base_uri": "https://localhost:8080/",
          "height": 443
        }
      },
      "source": [
        "x_a = np.arange(0,10001)\n",
        "y_a = np.zeros(len(x_a))\n",
        "\n",
        "print(y_a)\n",
        "start_time = time() #timer de inicio\n",
        "#Ciclo for para realizar la evaluación func.subs(x,3)\n",
        "for i in x_a:\n",
        "  y_a[i] = func.subs(x,x_a[i])\n",
        "  #calcular valor máximo\n",
        "  #añadir index para graficar\n",
        "  max = y_a.max() \n",
        "  #calcular valor mínimo\n",
        "  #añadir index para graficar\n",
        "  min = y_a.min()\n",
        "elapsed_time = time() - start_time #timer fin\n",
        "\n",
        "#tiempo transcurrido\n",
        "display(\"The elapsed time is: \", elapsed_time)\n",
        "display(\"The minimum value is: \", min)\n",
        "display(\"The maximum value is: \", max)\n",
        "\n",
        "\n",
        "#Graficando una funcion en 2D\n",
        "plt.plot(x_a,y_a)\n",
        "#Títulos de eje,gráfico\n",
        "plt.title(\"Exploración Naive\")\n",
        "plt.xlabel(\"Variable independiente\")\n",
        "plt.ylabel(\"Variable dependiente\")\n",
        "#plt.scatter()  poner uno para máximo y otro para mínimo\n",
        "#plt.scatter(x_a,y_a,s=0.01,c=\"red\")\n",
        "#plt.show()  Función\n",
        "plt.show()\n",
        "#Exportar una gráfica\n",
        "plt.savefig(\"Naive_exploration.tiff\",dpf=300,quality=95,bbox_inches='tight')\n",
        "#print(y_a)\n",
        "\n",
        "\n",
        "# A completar:\n",
        "    #Añadir los muestreos de 10 decimales entre cada entero, para \n",
        "    #poder encontrar los mínimos y maximos\n",
        "\n",
        "### Tenemos que añadir los puntos donde se encuentran los mínimos y máximos"
      ],
      "execution_count": null,
      "outputs": [
        {
          "output_type": "stream",
          "text": [
            "[0. 0. 0. ... 0. 0. 0.]\n"
          ],
          "name": "stdout"
        },
        {
          "output_type": "display_data",
          "data": {
            "application/vnd.google.colaboratory.intrinsic+json": {
              "type": "string"
            },
            "text/plain": [
              "'The elapsed time is: '"
            ]
          },
          "metadata": {
            "tags": []
          }
        },
        {
          "output_type": "display_data",
          "data": {
            "text/latex": "$$5.417222023010254$$",
            "text/plain": [
              "5.417222023010254"
            ]
          },
          "metadata": {
            "tags": []
          }
        },
        {
          "output_type": "display_data",
          "data": {
            "application/vnd.google.colaboratory.intrinsic+json": {
              "type": "string"
            },
            "text/plain": [
              "'The minimum value is: '"
            ]
          },
          "metadata": {
            "tags": []
          }
        },
        {
          "output_type": "display_data",
          "data": {
            "text/latex": "$$0.0$$",
            "text/plain": [
              "0.0"
            ]
          },
          "metadata": {
            "tags": []
          }
        },
        {
          "output_type": "display_data",
          "data": {
            "application/vnd.google.colaboratory.intrinsic+json": {
              "type": "string"
            },
            "text/plain": [
              "'The maximum value is: '"
            ]
          },
          "metadata": {
            "tags": []
          }
        },
        {
          "output_type": "display_data",
          "data": {
            "text/latex": "$$100020000.0$$",
            "text/plain": [
              "100020000.0"
            ]
          },
          "metadata": {
            "tags": []
          }
        },
        {
          "output_type": "display_data",
          "data": {
            "image/png": "[encoded data removed]",
            "text/plain": [
              "<Figure size 432x288 with 1 Axes>"
            ]
          },
          "metadata": {
            "tags": [],
            "needs_background": "light"
          }
        },
        {
          "output_type": "display_data",
          "data": {
            "text/plain": [
              "<Figure size 432x288 with 0 Axes>"
            ]
          },
          "metadata": {
            "tags": []
          }
        }
      ]
    },
    {
      "cell_type": "markdown",
      "metadata": {
        "id": "ovGQdleV9gx4"
      },
      "source": [
        "##Método de Newton\n",
        "\n"
      ]
    },
    {
      "cell_type": "code",
      "metadata": {
        "id": "6ULicClw9k3o",
        "outputId": "9a7bec13-88be-431a-dd99-6db67b2fbd87",
        "colab": {
          "base_uri": "https://localhost:8080/",
          "height": 268
        }
      },
      "source": [
        "#Definir una expresión simple\n",
        "func = x**2 + 2*x\n",
        "\n",
        "#valor inicial\n",
        "x_1 = 1\n",
        "\n",
        "#tolerancia\n",
        "tol = 0.000001 \n",
        "\n",
        "# numero max iter \n",
        "max_iter = 1000000\n",
        "\n",
        "\n",
        "der1 = diff(func)#calculando la primer derivada\n",
        "display('Calculando la derivada: ', Derivative(func))#Imprimiendo la notación\n",
        "display(der1)#Imprimiendo primer derivada\n",
        "\n",
        "#calculando segunda derivada \n",
        "der2 = diff(der1)\n",
        "display('calculando la derivada: ', Derivative(der1))\n",
        "display(der2)\n",
        "\n",
        "#inicializar error (delta)\n",
        "error = 99999#valor inicial para el error, se actualizará en el ciclo\n",
        "count = 0\n",
        "start_time_Newton = time()\n",
        "while tol<error and count <max_iter:\n",
        "  #Xk1 = xk - eval(f'(xf))/eval(f''(xk))\n",
        "  x_2 = x_1 - (der1.subs(x,x_1)/der2.subs(x,x_1))\n",
        "  #error = abs(actual-anterior)\n",
        "  error = abs(x_1-x_2)\n",
        "  #count += 1\n",
        "  count += 1\n",
        "  #xk =Xk1\n",
        "  x_1 = x_2\n",
        "#Tomar tiempo fin\n",
        "elapsed_time_Newton = time() - start_time_Newton\n",
        "display(\"El indice en x para el valor máximo o mínimo es: \",x_1)\n",
        "display(\"El número total de iteraciones fue de: \",count)\n",
        "#Sacar tiempo y hacer comparativa con el método anterior\n",
        "display(\"El tiempo de ejecución del método de Newton fue de: \", elapsed_time_Newton)\n",
        "# la segunda derivada mide su ritmo de crecimiento \n",
        "    # f''(x)<0 representa un máximo\n",
        "    # f''(x)>0 representa un mínimo\n",
        "if(der2.subs(x,x_1) > 0):\n",
        "  display(\"El índice \" + str(x_1) +\" obtiene un mínimo de la función \")\n",
        "else:\n",
        "  display(\"El índice \" + str(x_1) + \" obtiene un máximo de la función\")\n",
        "## El mínimo o máximo encontrados en esta función, hay que graficarlos en la gráfica del método pasado"
      ],
      "execution_count": null,
      "outputs": [
        {
          "output_type": "display_data",
          "data": {
            "application/vnd.google.colaboratory.intrinsic+json": {
              "type": "string"
            },
            "text/plain": [
              "'Calculando la derivada: '"
            ]
          },
          "metadata": {
            "tags": []
          }
        },
        {
          "output_type": "display_data",
          "data": {
            "text/latex": "$$\\frac{d}{d x}\\left(x^{2} + 2 x\\right)$$",
            "text/plain": [
              "d ⎛ 2      ⎞\n",
              "──⎝x  + 2⋅x⎠\n",
              "dx          "
            ]
          },
          "metadata": {
            "tags": []
          }
        },
        {
          "output_type": "display_data",
          "data": {
            "text/latex": "$$2 x + 2$$",
            "text/plain": [
              "2⋅x + 2"
            ]
          },
          "metadata": {
            "tags": []
          }
        },
        {
          "output_type": "display_data",
          "data": {
            "application/vnd.google.colaboratory.intrinsic+json": {
              "type": "string"
            },
            "text/plain": [
              "'calculando la derivada: '"
            ]
          },
          "metadata": {
            "tags": []
          }
        },
        {
          "output_type": "display_data",
          "data": {
            "text/latex": "$$\\frac{d}{d x}\\left(2 x + 2\\right)$$",
            "text/plain": [
              "d          \n",
              "──(2⋅x + 2)\n",
              "dx         "
            ]
          },
          "metadata": {
            "tags": []
          }
        },
        {
          "output_type": "display_data",
          "data": {
            "text/latex": "$$2$$",
            "text/plain": [
              "2"
            ]
          },
          "metadata": {
            "tags": []
          }
        },
        {
          "output_type": "display_data",
          "data": {
            "application/vnd.google.colaboratory.intrinsic+json": {
              "type": "string"
            },
            "text/plain": [
              "'El indice en x para el valor máximo o mínimo es: '"
            ]
          },
          "metadata": {
            "tags": []
          }
        },
        {
          "output_type": "display_data",
          "data": {
            "text/latex": "$$-1$$",
            "text/plain": [
              "-1"
            ]
          },
          "metadata": {
            "tags": []
          }
        },
        {
          "output_type": "display_data",
          "data": {
            "application/vnd.google.colaboratory.intrinsic+json": {
              "type": "string"
            },
            "text/plain": [
              "'El número total de iteraciones fue de: '"
            ]
          },
          "metadata": {
            "tags": []
          }
        },
        {
          "output_type": "display_data",
          "data": {
            "text/latex": "$$2$$",
            "text/plain": [
              "2"
            ]
          },
          "metadata": {
            "tags": []
          }
        },
        {
          "output_type": "display_data",
          "data": {
            "application/vnd.google.colaboratory.intrinsic+json": {
              "type": "string"
            },
            "text/plain": [
              "'El tiempo de ejecución del método de Newton fue de: '"
            ]
          },
          "metadata": {
            "tags": []
          }
        },
        {
          "output_type": "display_data",
          "data": {
            "text/latex": "$$0.0016031265258789062$$",
            "text/plain": [
              "0.0016031265258789062"
            ]
          },
          "metadata": {
            "tags": []
          }
        },
        {
          "output_type": "display_data",
          "data": {
            "application/vnd.google.colaboratory.intrinsic+json": {
              "type": "string"
            },
            "text/plain": [
              "'El índice -1 obtiene un mínimo de la función '"
            ]
          },
          "metadata": {
            "tags": []
          }
        }
      ]
    },
    {
      "cell_type": "markdown",
      "metadata": {
        "id": "x8Gqj0klDAvf"
      },
      "source": [
        "#Asignaciones (Miércoles 30 sep,11:59)\n",
        "1. Hace una comparativa de los tiempos\n",
        "2. Generar una gráfica para cada método\n",
        "3. Revisar si se están obteniendo un valor máximo o valor mínimo(Revisar en la literatura cómo hacerlo)\n",
        "4. Hacer reporte (Comparativas simples entre cada gráfica, comparar eficiencias, 1 a 2 cuartillas, )\n",
        "4. Subir a schoology\n",
        "\n",
        "\n",
        "De preferencia estructurarlo en programación orientada a objetos \n"
      ]
    }
  ]
}