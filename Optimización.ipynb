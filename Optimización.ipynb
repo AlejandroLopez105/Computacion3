{
  "nbformat": 4,
  "nbformat_minor": 0,
  "metadata": {
    "colab": {
      "name": "Optimización",
      "provenance": [],
      "collapsed_sections": [],
      "authorship_tag": "ABX9TyPJXw0w19ntUbY1leEMPDlS",
      "include_colab_link": true
    },
    "kernelspec": {
      "name": "python3",
      "display_name": "Python 3"
    }
  },
  "cells": [
    {
      "cell_type": "markdown",
      "metadata": {
        "id": "view-in-github",
        "colab_type": "text"
      },
      "source": [
        "<a href=\"https://colab.research.google.com/github/AlejandroLopez105/Computacion3/blob/master/Optimizaci%C3%B3n.ipynb\" target=\"_parent\"><img src=\"https://colab.research.google.com/assets/colab-badge.svg\" alt=\"Open In Colab\"/></a>"
      ]
    },
    {
      "cell_type": "markdown",
      "metadata": {
        "id": "vuDNGAY1ElVc"
      },
      "source": [
        "  *   Autor: Miguel Alejandro López Olvera \n",
        "  *   Contacto: alexander_105@comunidad.unam.mx\n",
        "  *   28 de septiembre del 2020"
      ]
    },
    {
      "cell_type": "markdown",
      "metadata": {
        "id": "e9bmQAwtKg08"
      },
      "source": [
        "#Optimización en una dimensión \n",
        "  *   Búsqueda exahustiva\n",
        "  *   El método de newton"
      ]
    },
    {
      "cell_type": "markdown",
      "metadata": {
        "id": "pVDcCkdKGCvp"
      },
      "source": [
        "#Búsqueda Exahustiva"
      ]
    },
    {
      "cell_type": "code",
      "metadata": {
        "id": "QY49Q0N-S51g",
        "outputId": "498632b3-dda5-42a3-aa87-a4b21e617216",
        "colab": {
          "base_uri": "https://localhost:8080/",
          "height": 55
        }
      },
      "source": [
        "import numpy as np\n",
        "from sympy import *\n",
        "from sympy.abc import x, y\n",
        "import matplotlib\n",
        "from time import time\n",
        "import matplotlib.pyplot as plt\n",
        "\n",
        "\n",
        "init_printing(use_latex='mathjax')\n",
        "func = x**2+2*x\n",
        "print(func)\n",
        "display(func)\n",
        "\n",
        "#display('Substitutución x=0', func.subs(x,0))\n"
      ],
      "execution_count": 8,
      "outputs": [
        {
          "output_type": "stream",
          "text": [
            "x**2 + 2*x\n"
          ],
          "name": "stdout"
        },
        {
          "output_type": "display_data",
          "data": {
            "text/latex": "$$x^{2} + 2 x$$",
            "text/plain": [
              " 2      \n",
              "x  + 2⋅x"
            ]
          },
          "metadata": {
            "tags": []
          }
        }
      ]
    },
    {
      "cell_type": "code",
      "metadata": {
        "id": "KzWYu0u8VHfW",
        "outputId": "a2c0b070-144d-42d8-87f0-c246733fc1e2",
        "colab": {
          "base_uri": "https://localhost:8080/",
          "height": 426
        }
      },
      "source": [
        "x_a = np.arange(0,10001)\n",
        "y_a = np.zeros(len(x_a))\n",
        "y_a_muestreo = np.zeros(9)\n",
        "#print(y_a)\n",
        "start_time = time() #timer de inicio\n",
        "max = -9999999999\n",
        "min = 99999999999\n",
        "index_min = 0\n",
        "index_max = 0\n",
        "for i in x_a:\n",
        "  y_a[i] = func.subs(x,x_a[i])\n",
        "  a=0.1\n",
        "  if(y_a[i]<min):\n",
        "    min = y_a[i]\n",
        "  for j in range(9):\n",
        "    subs = x_a[i]+a\n",
        "    y_a_muestreo[j] = func.subs(x,subs)\n",
        "    if(y_a_muestreo[j] > max):\n",
        "      max = y_a_muestreo[j]\n",
        "      index_max = subs\n",
        "    if(y_a_muestreo[j] < min):\n",
        "      min = y_a_muestreo[j]\n",
        "      index_min = subs\n",
        "    a+=0.1\n",
        "elapsed_time = time() - start_time #timer fin\n",
        "\n",
        "#tiempo transcurrido\n",
        "display(\"The elapsed time is: \", elapsed_time)\n",
        "display(\"The minimum value is: \", min)\n",
        "display(\"The maximum value is: \", max)\n",
        "\n",
        "plt.plot(x_a,y_a,label=\"Función original\")\n",
        "plt.title(\"Búsqueda Exahustiva\")\n",
        "plt.xlabel(\"Variable independiente\")\n",
        "plt.ylabel(\"Variable dependiente\")\n",
        "plt.scatter(index_max, max,c = \"red\",label=\"Punto máximo(Búsqueda exahustiva)\")\n",
        "plt.scatter(index_min,min,c=\"blue\",label=\"Punto mínimo(Búsqueda exahustiva)\")\n",
        "plt.legend(loc=\"best\")\n",
        "plt.show()\n",
        "plt.savefig(\"Naive_exploration_BE.tiff\",dpf=300,quality=95,bbox_inches='tight')"
      ],
      "execution_count": 17,
      "outputs": [
        {
          "output_type": "display_data",
          "data": {
            "application/vnd.google.colaboratory.intrinsic+json": {
              "type": "string"
            },
            "text/plain": [
              "'The elapsed time is: '"
            ]
          },
          "metadata": {
            "tags": []
          }
        },
        {
          "output_type": "display_data",
          "data": {
            "text/latex": "$$45.63940143585205$$",
            "text/plain": [
              "45.63940143585205"
            ]
          },
          "metadata": {
            "tags": []
          }
        },
        {
          "output_type": "display_data",
          "data": {
            "application/vnd.google.colaboratory.intrinsic+json": {
              "type": "string"
            },
            "text/plain": [
              "'The minimum value is: '"
            ]
          },
          "metadata": {
            "tags": []
          }
        },
        {
          "output_type": "display_data",
          "data": {
            "text/latex": "$$0.0$$",
            "text/plain": [
              "0.0"
            ]
          },
          "metadata": {
            "tags": []
          }
        },
        {
          "output_type": "display_data",
          "data": {
            "application/vnd.google.colaboratory.intrinsic+json": {
              "type": "string"
            },
            "text/plain": [
              "'The maximum value is: '"
            ]
          },
          "metadata": {
            "tags": []
          }
        },
        {
          "output_type": "display_data",
          "data": {
            "text/latex": "$$100038002.61000004$$",
            "text/plain": [
              "100038002.61000004"
            ]
          },
          "metadata": {
            "tags": []
          }
        },
        {
          "output_type": "display_data",
          "data": {
            "image/png": "[encoded data removed]",
            "text/plain": [
              "<Figure size 432x288 with 1 Axes>"
            ]
          },
          "metadata": {
            "tags": [],
            "needs_background": "light"
          }
        },
        {
          "output_type": "display_data",
          "data": {
            "text/plain": [
              "<Figure size 432x288 with 0 Axes>"
            ]
          },
          "metadata": {
            "tags": []
          }
        }
      ]
    },
    {
      "cell_type": "markdown",
      "metadata": {
        "id": "ovGQdleV9gx4"
      },
      "source": [
        "##Método de Newton\n",
        "\n"
      ]
    },
    {
      "cell_type": "code",
      "metadata": {
        "id": "6ULicClw9k3o",
        "outputId": "5f348d42-c7e6-4551-fa26-00806a192921",
        "colab": {
          "base_uri": "https://localhost:8080/",
          "height": 444
        }
      },
      "source": [
        "#Definir una expresión simple\n",
        "func = x**2 + 2*x\n",
        "\n",
        "#valor inicial\n",
        "x_1 = 1\n",
        "\n",
        "#tolerancia\n",
        "tol = 0.000001 \n",
        "\n",
        "# numero max iter \n",
        "max_iter = 1000000\n",
        "\n",
        "\n",
        "der1 = diff(func)#calculando la primer derivada\n",
        "#display('Calculando la derivada: ', Derivative(func))#Imprimiendo la notación\n",
        "#display(der1)#Imprimiendo primer derivada\n",
        "\n",
        "#calculando segunda derivada \n",
        "der2 = diff(der1)\n",
        "#display('calculando la derivada: ', Derivative(der1))\n",
        "#display(der2)\n",
        "\n",
        "#inicializar error (delta)\n",
        "error = 99999#valor inicial para el error, se actualizará en el ciclo\n",
        "count = 0\n",
        "start_time_Newton = time()\n",
        "while tol<error and count <max_iter:\n",
        "  #Xk1 = xk - eval(f'(xf))/eval(f''(xk))\n",
        "  x_2 = x_1 - (der1.subs(x,x_1)/der2.subs(x,x_1))\n",
        "  #error = abs(actual-anterior)\n",
        "  error = abs(x_1-x_2)\n",
        "  #count += 1\n",
        "  count += 1\n",
        "  #xk =Xk1\n",
        "  x_1 = x_2\n",
        "#Tomar tiempo fin\n",
        "elapsed_time_Newton = time() - start_time_Newton\n",
        "display(\"El indice en x para el valor máximo o mínimo es: \",x_1)\n",
        "display(\"El número total de iteraciones fue de: \",count)\n",
        "#Sacar tiempo y hacer comparativa con el método anterior\n",
        "display(\"El tiempo de ejecución del método de Newton fue de: \", elapsed_time_Newton)\n",
        "# la segunda derivada mide su ritmo de crecimiento \n",
        "    # f''(x)<0 representa un máximo\n",
        "    # f''(x)>0 representa un mínimo\n",
        "if(der2.subs(x,x_1) > 0):\n",
        "  display(\"El índice \" + str(x_1) +\" obtiene un mínimo de la función \" + str(func))\n",
        "  name = \"Punto mínimo(Newton)\"\n",
        "else:\n",
        "  display(\"El índice \" + str(x_1) + \" obtiene un máximo de la función\" + str(func))\n",
        "  name = \"Punto máximo(Newton)\"\n",
        "## El mínimo o máximo encontrados en esta función, hay que graficarlos en la gráfica del método pasado\n",
        "min_or_max = func.subs(x,x_1)\n",
        "\n",
        "\n",
        "plt.plot(x_a,y_a,label=\"Función original\")\n",
        "plt.title(\"Búsqueda por método de Newton\")\n",
        "plt.xlabel(\"Variable independiente\")\n",
        "plt.ylabel(\"Variable dependiente\")\n",
        "#plt.scatter(index_max, max,c = \"red\",label=\"Punto máximo(Búsqueda exahustiva)\")\n",
        "#plt.scatter(index_min,min,c=\"blue\",label=\"Punto mínimo(Búsqueda exahustiva)\")\n",
        "plt.scatter(x_1,min_or_max,c=\"green\",label=name)\n",
        "plt.legend(loc=\"best\")\n",
        "plt.show()\n",
        "plt.savefig(\"Exploración_Newton.tiff\",dpf=300,quality=95,bbox_inches='tight')"
      ],
      "execution_count": 18,
      "outputs": [
        {
          "output_type": "display_data",
          "data": {
            "application/vnd.google.colaboratory.intrinsic+json": {
              "type": "string"
            },
            "text/plain": [
              "'El indice en x para el valor máximo o mínimo es: '"
            ]
          },
          "metadata": {
            "tags": []
          }
        },
        {
          "output_type": "display_data",
          "data": {
            "text/latex": "$$-1$$",
            "text/plain": [
              "-1"
            ]
          },
          "metadata": {
            "tags": []
          }
        },
        {
          "output_type": "display_data",
          "data": {
            "application/vnd.google.colaboratory.intrinsic+json": {
              "type": "string"
            },
            "text/plain": [
              "'El número total de iteraciones fue de: '"
            ]
          },
          "metadata": {
            "tags": []
          }
        },
        {
          "output_type": "display_data",
          "data": {
            "text/latex": "$$2$$",
            "text/plain": [
              "2"
            ]
          },
          "metadata": {
            "tags": []
          }
        },
        {
          "output_type": "display_data",
          "data": {
            "application/vnd.google.colaboratory.intrinsic+json": {
              "type": "string"
            },
            "text/plain": [
              "'El tiempo de ejecución del método de Newton fue de: '"
            ]
          },
          "metadata": {
            "tags": []
          }
        },
        {
          "output_type": "display_data",
          "data": {
            "text/latex": "$$0.0007071495056152344$$",
            "text/plain": [
              "0.0007071495056152344"
            ]
          },
          "metadata": {
            "tags": []
          }
        },
        {
          "output_type": "display_data",
          "data": {
            "application/vnd.google.colaboratory.intrinsic+json": {
              "type": "string"
            },
            "text/plain": [
              "'El índice -1 obtiene un mínimo de la función x**2 + 2*x'"
            ]
          },
          "metadata": {
            "tags": []
          }
        },
        {
          "output_type": "display_data",
          "data": {
            "image/png": "[encoded data removed]",
            "text/plain": [
              "<Figure size 432x288 with 1 Axes>"
            ]
          },
          "metadata": {
            "tags": [],
            "needs_background": "light"
          }
        },
        {
          "output_type": "display_data",
          "data": {
            "text/plain": [
              "<Figure size 432x288 with 0 Axes>"
            ]
          },
          "metadata": {
            "tags": []
          }
        }
      ]
    },
    {
      "cell_type": "markdown",
      "metadata": {
        "id": "x8Gqj0klDAvf"
      },
      "source": [
        "#Asignaciones (Miércoles 30 sep,11:59)\n",
        "1. Hace una comparativa de los tiempos\n",
        "2. Generar una gráfica para cada método\n",
        "3. Revisar si se están obteniendo un valor máximo o valor mínimo(Revisar en la literatura cómo hacerlo)\n",
        "4. Hacer reporte (Comparativas simples entre cada gráfica, comparar eficiencias, 1 a 2 cuartillas, )\n",
        "4. Subir a schoology\n",
        "\n",
        "\n",
        "De preferencia estructurarlo en programación orientada a objetos \n"
      ]
    }
  ]
}