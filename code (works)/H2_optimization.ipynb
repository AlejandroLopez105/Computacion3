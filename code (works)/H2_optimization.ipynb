{
  "nbformat": 4,
  "nbformat_minor": 0,
  "metadata": {
    "colab": {
      "name": " optimization.ipynb",
      "provenance": [],
      "collapsed_sections": [],
      "authorship_tag": "ABX9TyMHBOXYRKFizIdMNFoL2DWU",
      "include_colab_link": true
    },
    "kernelspec": {
      "name": "python3",
      "display_name": "Python 3"
    }
  },
  "cells": [
    {
      "cell_type": "markdown",
      "metadata": {
        "id": "view-in-github",
        "colab_type": "text"
      },
      "source": [
        "<a href=\"https://colab.research.google.com/github/AlejandroLopez105/Computacion3/blob/master/optimization.ipynb\" target=\"_parent\"><img src=\"https://colab.research.google.com/assets/colab-badge.svg\" alt=\"Open In Colab\"/></a>"
      ]
    },
    {
      "cell_type": "markdown",
      "metadata": {
        "id": "ZxTl9L1mUjGP"
      },
      "source": [
        "#Computación III -Unidad I\n",
        "+ Autor : Miguel Alejandro López Olvera\n",
        "+ Contacto: alexander_105@live.com \n",
        "+ 05-10-2020\n",
        "\n",
        "#Optimización en una dimensión\n",
        "+ Búsqueda exhaustiva\n",
        "+ Método de Newton \n",
        "+ Método de la sección aurea \n",
        "\n"
      ]
    },
    {
      "cell_type": "markdown",
      "metadata": {
        "id": "bbl6FURoW2xK"
      },
      "source": [
        "#Clase Optimización \n",
        "+ Búsqueda exhaustiva\n",
        "+ Método de Newton\n",
        "+ Método de la sección aurea\n"
      ]
    },
    {
      "cell_type": "code",
      "metadata": {
        "id": "ij2I5tjBW17p"
      },
      "source": [
        "class Optimization:\n",
        "  def __init__(self,func, tol,maxIter):\n",
        "    self.tol = tol\n",
        "    self.maxIter = maxIter\n",
        "    self.func = func\n",
        "\n",
        "  def Exhaustive_search(self, inicio, fin):\n",
        "    x_a = np.arange(inicio,fin+1)\n",
        "    y_a = np.zeros(len(x_a))\n",
        "    y_a_muestreo = np.zeros(9)\n",
        "    max = -99999999\n",
        "    min = 999999999\n",
        "    index_min = 0\n",
        "    index_max = 0\n",
        "    for i in x_a:\n",
        "      y_a[i] = self.func.subs(x,x_a[i])\n",
        "      a=0.1\n",
        "      if(y_a[i]<min):\n",
        "        min = y_a[i]\n",
        "        index_min = x_a[i]\n",
        "      for j in range(9):\n",
        "        subs = x_a[i]+a\n",
        "        y_a_muestreo[j] = self.func.subs(x,subs)\n",
        "        if(y_a_muestreo[j] > max):\n",
        "          max = y_a_muestreo[j]\n",
        "          index_max = subs\n",
        "        if(y_a_muestreo[j] < min):\n",
        "          min = y_a_muestreo[j]\n",
        "          index_min = subs\n",
        "        a+=0.1\n",
        "    return min,max,index_min,index_max\n",
        "  def Newton_method(self, der1, der2):\n",
        "    #valor inicial\n",
        "    x_1 = float(1)\n",
        "    #inicializar error (delta)\n",
        "    error = 99999#valor inicial para el error, se actualizará en el ciclo\n",
        "    count = 0\n",
        "    start_time_Newton = time()\n",
        "    while self.tol<error and count <self.maxIter:\n",
        "      #Xk1 = xk - eval(f'(xf))/eval(f''(xk))\n",
        "      x_2 = x_1 - (der1.subs(x,x_1)/der2.subs(x,x_1))\n",
        "      #error = abs(actual-anterior)\n",
        "      error = abs(x_1-x_2)\n",
        "      #count += 1\n",
        "      count += 1\n",
        "      #xk =Xk1\n",
        "      x_1 = x_2\n",
        "    return x_1\n",
        "\n",
        "  def Golden_ratio_method(self, x_l, x_u):\n",
        "    prop = (float(sqrt(5))-1)/2\n",
        "    conteo=0\n",
        "    while(abs(x_u-x_l) > self.tol and conteo<self.maxIter):\n",
        "      d = prop*(x_u-x_l)\n",
        "      x_1 = x_l + d\n",
        "      x_2 = x_u - d\n",
        "      eval_x1 = self.func.subs(x,x_1)\n",
        "      eval_x2 = self.func.subs(x,x_2)\n",
        "\n",
        "      if(eval_x1 < eval_x2):\n",
        "        x_l = x_2\n",
        "        x_2 = x_1\n",
        "        x_1 = x_l + (prop*(x_u-x_l))\n",
        "      elif(eval_x2 < eval_x1):\n",
        "        x_u = x_1\n",
        "        x_1 = x_2\n",
        "        x_2 = x_u - (prop*(x_u-x_l))\n",
        "      conteo+=1\n",
        "    return x_1"
      ],
      "execution_count": 16,
      "outputs": []
    },
    {
      "cell_type": "markdown",
      "metadata": {
        "id": "lV0AU6dru0-Q"
      },
      "source": [
        "#Graficación de métodos y puntos\n"
      ]
    },
    {
      "cell_type": "code",
      "metadata": {
        "id": "d7OF1EpavAf1"
      },
      "source": [
        "class Graph:\n",
        "  def __init__(self,func):\n",
        "    self.func = func\n",
        "\n",
        "  def PlotFunction(self,inicio,fin):\n",
        "    x_a = np.linspace(-1, 2.5, 10000)\n",
        "    y_a = np.zeros(len(x_a))\n",
        "\n",
        "    for i in range(len(x_a)):\n",
        "      y_a[i] = self.func.subs(x, x_a[i])\n",
        "    plt.title(\"Búsqueda Exhaustiva\")\n",
        "    plt.xlabel(\"Variable independiente\")\n",
        "    plt.ylabel(\"Variable dependiente\")\n",
        "    # Generar gráfico usando x_a y y_a\n",
        "    plt.plot(x_a, y_a, label = self.func)\n",
        "    # Desplegar lyenda\n",
        "    plt.legend(loc = 'best')\n",
        "\n",
        "  def plotPoint(self,x,y,legend,color, mark):\n",
        "    plt.scatter(x, y, label = legend, c = color, marker = mark)\n",
        "    plt.legend(loc= \"best\")\n",
        "\n",
        "  def saveFigure(self, title, quality):\n",
        "    plt.savefig(title, dpi = quality, bbox_inches = 'tight')"
      ],
      "execution_count": 17,
      "outputs": []
    },
    {
      "cell_type": "markdown",
      "metadata": {
        "id": "s2jeI5ZxVjCM"
      },
      "source": [
        "#Definición de método Main"
      ]
    },
    {
      "cell_type": "code",
      "metadata": {
        "id": "15rSxdTuUj-j",
        "outputId": "fa3f54bd-3ba5-401c-f947-c235f320028c",
        "colab": {
          "base_uri": "https://localhost:8080/",
          "height": 448
        }
      },
      "source": [
        "from sympy import *\n",
        "import matplotlib.pyplot as plt\n",
        "from sympy.abc import x, y\n",
        "import numpy as np\n",
        "import matplotlib\n",
        "from time import time\n",
        "import matplotlib.pyplot as plt\n",
        "#habilitar impresión avanzada con latex\n",
        "init_printing(use_latex='mathjax')\n",
        "\n",
        "def main():\n",
        "  func = x**4-3*x**3+2*x\n",
        "  #func=x**2 + 2*x\n",
        "  tol = 0.0001\n",
        "  maxIter = 1000\n",
        "  inicio = -100\n",
        "  fin = 100\n",
        "\n",
        "  der1 = diff(func)\n",
        "  der2 = diff(der1)\n",
        "\n",
        "  objOpt = Optimization(func, tol, maxIter)\n",
        "\n",
        "  start_time_ES = time()\n",
        "  min,max,index_min,index_max = objOpt.Exhaustive_search(inicio,fin)\n",
        "  time_ES = time()-start_time_ES\n",
        "\n",
        "  start_Newton = time()\n",
        "  x_1_newton = objOpt.Newton_method(der1,der2)\n",
        "  time_Newton = time() - start_Newton\n",
        "\n",
        "  start_Golden = time()\n",
        "  x_1_golden = objOpt.Golden_ratio_method(inicio, fin)\n",
        "  time_Golden_ratio = time() - start_Golden\n",
        "\n",
        "  print(\"Exhaustive search: \" + str(index_min))\n",
        "  print(\"\\t Time: \" + str(time_ES) + \"\\n\")\n",
        "  print(\"Newton method: \" + str(x_1_newton))\n",
        "  print(\"\\t Time: \" + str(time_Newton) + \"\\n\")\n",
        "  print(\"Golden search method: \" + str(x_1_golden))\n",
        "  print(\"\\t Time: \" + str(time_Golden_ratio) + \"\\n\")\n",
        "\n",
        "  objGraph = Graph(func)\n",
        "  objGraph.PlotFunction(inicio,fin)\n",
        "\n",
        "  minOrMax_Newton = der2.subs(x,x_1_newton)\n",
        "  minOrMax_Golden = der2.subs(x,x_1_golden)\n",
        "\n",
        "  if(der1.subs(x,index_min) < tol):#almost 0\n",
        "    objGraph.plotPoint(index_min, min, \"Minimum-Exhaustive Search\", \"b\", \">\")\n",
        "  elif(der1.subs(x,index_max) < tol):#almost 0\n",
        "    objGraph.plotPoint(index_max, max, \"Maximum-Exhaustive Search\", \"b\",\">\")\n",
        "\n",
        "  if(minOrMax_Newton > 0):\n",
        "    objGraph.plotPoint(x_1_newton, func.subs(x,x_1_newton), \"Minimum-Newton\", \"r\",\"v\")\n",
        "  elif(minOrMax_Newton < 0):\n",
        "    objGraph.plotPoint(x_1_newton, func.subs(x,x_1_newton), \"Maximum-Newton\", \"r\",\"v\")\n",
        "\n",
        "  if(minOrMax_Golden > 0):\n",
        "    objGraph.plotPoint(x_1_golden, func.subs(x,x_1_golden), \"Minimum-Golden Search\", \"g\",\"<\")\n",
        "  elif(minOrMax_Golden < 0):\n",
        "    objGraph.plotPoint(x_1_golden, func.subs(x,x_1_golden), \"Maximum-Golden Search\", \"g\",\"<\")\n",
        "  \n",
        "  #objGraph.saveFigure(\"Optimization\",300)\n",
        "\n",
        "if __name__ == \"__main__\":\n",
        "  main()"
      ],
      "execution_count": 22,
      "outputs": [
        {
          "output_type": "stream",
          "text": [
            "Exhaustive search: 2.1\n",
            "\t Time: 1.4157764911651611\n",
            "\n",
            "Newton method: 0.540876746658062\n",
            "\t Time: 0.0038192272186279297\n",
            "\n",
            "Golden search method: 2.140901060233582\n",
            "\t Time: 0.02866649627685547\n",
            "\n"
          ],
          "name": "stdout"
        },
        {
          "output_type": "display_data",
          "data": {
            "image/png": "[encoded data removed]",
            "text/plain": [
              "<Figure size 432x288 with 1 Axes>"
            ]
          },
          "metadata": {
            "tags": [],
            "needs_background": "light"
          }
        }
      ]
    }
  ]
}